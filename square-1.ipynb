{
 "cells": [
  {
   "cell_type": "markdown",
   "metadata": {},
   "source": [
    "# Introduction\n",
    "\n",
    "The visualizations below show the top and bottom faces side-by-side with the top face on the left. To compare them with a physical cube, you need to orient the latter correctly. The middle slice (the one with a single slit through it) should have its blue edge towards you, red edge to your right, orange edge to your left.\n",
    "\n",
    "There are two parts to solving the square-1 cube. The first part of the solution disregards colors, merely aiming to make the cube actually cubic.\n",
    "\n",
    "Outline:\n",
    "\n",
    "- **Section 1** shows how define the state of the virtual cube and how to visualize it. \n",
    "\n",
    "- **Section 2** solves for the shape. Given any initial state, it provides the shortest sequence of steps to make the cube actually cubic. Colors are disregarded.\n",
    "\n",
    "- **Section 3** simulates color transformations and illustrates some key color-swapping algorithms from the Lars Vandenbergh's solution method (http://www.cubezone.be/square1.html)."
   ]
  },
  {
   "cell_type": "markdown",
   "metadata": {},
   "source": [
    "# 1. Visualize the state of the cube\n",
    "\n",
    "## 1.1. Define and visualize an arbitrary shape.\n",
    "\n",
    "First the top face, then the bottom face.\n",
    "1 represents a thinner slice (30°). 2 represents a thicker slice (60°).\n",
    "Identify each slice counterclockwise starting from the side of the slit facing away from you.\n",
    "\n",
    "A valid configuration must have 8 slices of each kind in total (counting both faces),\n",
    "and each face must add up to 12 (360°). Use tuples, not lists."
   ]
  },
  {
   "cell_type": "code",
   "execution_count": null,
   "metadata": {},
   "outputs": [],
   "source": [
    "import square1 as sq\n",
    "\n",
    "top = (1,2,1,2,1,2,2,1)\n",
    "bot = (2,1,2,1,2,1,2,1)\n",
    "sq.draw_shape((top,bot))"
   ]
  },
  {
   "cell_type": "markdown",
   "metadata": {},
   "source": [
    "## 1.2. Define and visualize and arbitrary state\n",
    "\n",
    "Each slice is identified by the initials of its colors: first the face's color, either w (white) or y (yellow), then the edge color(s), either one (for thin slices) or two (for thick slices) of b (blue), r (red), g (green), or o (orange). For thick slices, the two edge colors should be in counterclockwise order.\n",
    "\n",
    "A valid cube state can only have one copy of each slice, and the total number of color letters that are not w or y in each face must add up to 12. Use tuples, not lists."
   ]
  },
  {
   "cell_type": "code",
   "execution_count": null,
   "metadata": {},
   "outputs": [],
   "source": [
    "top = ('yg','ygo','wog','ybr','yrg','wgr','wr')\n",
    "bot = ('wbo','wo','wg','yob','yo','yr','yb','wrb','wb')\n",
    "sq.draw((top,bot))"
   ]
  },
  {
   "cell_type": "markdown",
   "metadata": {},
   "source": [
    "# 2. Solve the shape\n",
    "\n",
    "Enter the current shape of the cube in the cell below, then execute it to see the shortest sequence of steps leading to the cubic shape. At each step, rotate the top and bottom faces  to achieve the configuration on the screen, then twist the right half 180°."
   ]
  },
  {
   "cell_type": "code",
   "execution_count": null,
   "metadata": {},
   "outputs": [],
   "source": [
    "top = (1,2,1,2,1,2,2,1)\n",
    "bot = (1,2,2,1,2,1,2,1)\n",
    "\n",
    "p0  = sq.identify_pair(top,bot)\n",
    "for p,s in sq.solution_dict[p0]:\n",
    "    top,bot = sq.turn_shape(p[0],s[0]),sq.turn_shape(p[1],s[1])\n",
    "    sq.draw_shape((top,bot))"
   ]
  },
  {
   "cell_type": "markdown",
   "metadata": {},
   "source": [
    "# 3. Visualize color transformations\n",
    "\n",
    "This section is based on Lars Vandenbergh's solution method from http://www.cubezone.be/square1.html. The method is based on a handful of algorithms, each of which performs a specific type of color swap. Here we perform those algorithms on the virtual cube and show every intermediate step.\n",
    "\n",
    "The algorithm notation is described on the website. In short, each move looks something like this `(3,-1) /`. This means `rotate this top face by 3 increments, rotate the bottom face by -1 increments, then twist the right half 180°`. One rotation increment corresponds to the width of a thin slice, or 30°. The sign indicates the direction of rotation: + for clockwise, - for counterclockwise. This is assessed when facing the face to be rotated.\n",
    "\n",
    "The cells below illustrate the main algorithms by showing the result of applying them to an already-solved cube. Set `show_steps=True` to see every intermediate step, or `show_steps=False` to see the initial and final states only."
   ]
  },
  {
   "cell_type": "code",
   "execution_count": null,
   "metadata": {
    "scrolled": false
   },
   "outputs": [],
   "source": [
    "''' Swap the two front corners in top face. '''\n",
    "\n",
    "# seq = '/ (3,-3) / (3,0) / (-3,0) / (0,3) / (-3,0) /' # As found on http://www.cubezone.be.\n",
    "seq = '/ (3,-3) / (3,0) / (-3,0) / (0,3) / (-3,0) / (3,0)' # With added quarter turn at the end.\n",
    "sq.draw(sq.solved_cube)\n",
    "sq.draw(sq.parse_sequence(seq)(sq.solved_cube, show_steps=False))"
   ]
  },
  {
   "cell_type": "code",
   "execution_count": null,
   "metadata": {
    "scrolled": false
   },
   "outputs": [],
   "source": [
    "''' Swap the front and right edges in the top face. '''\n",
    "\n",
    "seq = '/ (-3,0) / (0,3) / (0,-3) / (0,3) / (2,0) / (0,2) / (-2,0) / (4,0) / (0,-2) / (0,2) / (-1,4) / (0,-3) / (0,3)'\n",
    "sq.draw(sq.solved_cube)\n",
    "sq.draw(sq.parse_sequence(seq)(sq.solved_cube, show_steps=False))"
   ]
  },
  {
   "cell_type": "code",
   "execution_count": null,
   "metadata": {
    "scrolled": false
   },
   "outputs": [],
   "source": [
    "''' Swap the left and right edges in the top face. '''\n",
    "\n",
    "seq = '/ (3,3) / (-1,0) / (2,-4) / (4,-2) / (0,-2) / (-4,2) / (1,-5) / (3,0) / (3,3) / (3,0)'\n",
    "sq.draw(sq.solved_cube)\n",
    "sq.draw(sq.parse_sequence(seq)(sq.solved_cube, show_steps=False))"
   ]
  },
  {
   "cell_type": "code",
   "execution_count": null,
   "metadata": {},
   "outputs": [],
   "source": [
    "''' Cyclic permutation of back three edges in the top face. '''\n",
    "\n",
    "sq.draw(sq.solved_cube)\n",
    "\n",
    "# Clockwise.\n",
    "seq = '/ (3,0) / (1,0) / (0,-3) / (-1,0) / (-3,0) / (1,0) / (0,3) / (-1,0)'\n",
    "sq.draw(sq.parse_sequence(seq)(sq.solved_cube, show_steps=False))\n",
    "\n",
    "# # Counterclockwise.\n",
    "# seq = '(1,0) / (0,-3) / (-1,0) / (3,0) / (1,0) / (0,3) / (-1,0) / (-3,0) /'\n",
    "# sq.draw(sq.parse_sequence(seq)(sq.solved_cube, show_steps=False))"
   ]
  },
  {
   "cell_type": "code",
   "execution_count": null,
   "metadata": {},
   "outputs": [],
   "source": []
  }
 ],
 "metadata": {
  "kernelspec": {
   "display_name": "Python (main)",
   "language": "python",
   "name": "main"
  },
  "language_info": {
   "codemirror_mode": {
    "name": "ipython",
    "version": 3
   },
   "file_extension": ".py",
   "mimetype": "text/x-python",
   "name": "python",
   "nbconvert_exporter": "python",
   "pygments_lexer": "ipython3",
   "version": "3.6.10"
  }
 },
 "nbformat": 4,
 "nbformat_minor": 4
}
